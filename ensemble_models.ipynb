{
 "cells": [
  {
   "cell_type": "code",
   "execution_count": 1,
   "metadata": {},
   "outputs": [],
   "source": [
    "import pandas as pd\n",
    "import numpy as np\n",
    "import matplotlib.pyplot as plt"
   ]
  },
  {
   "cell_type": "code",
   "execution_count": 2,
   "metadata": {},
   "outputs": [],
   "source": [
    "from sklearn.ensemble import VotingClassifier\n",
    "from sklearn.model_selection import StratifiedKFold\n",
    "import time\n",
    "import tqdm"
   ]
  },
  {
   "cell_type": "code",
   "execution_count": 3,
   "metadata": {},
   "outputs": [],
   "source": [
    "from sklearn.metrics import mean_squared_error\n",
    "from sklearn.pipeline import Pipeline"
   ]
  },
  {
   "cell_type": "code",
   "execution_count": 4,
   "metadata": {},
   "outputs": [],
   "source": [
    "df_train = pd.read_csv('./data/train.csv')\n",
    "df_test = pd.read_csv('./data/test.csv')"
   ]
  },
  {
   "cell_type": "code",
   "execution_count": 5,
   "metadata": {},
   "outputs": [],
   "source": [
    "from preprocess import preprocess\n",
    "\n",
    "X_train, X_test, y_train = preprocess(df_train, df_test, use_custom_target_encoding=True, use_scaling=True, \\\n",
    "                                                     filter_features=False)"
   ]
  },
  {
   "cell_type": "code",
   "execution_count": 6,
   "metadata": {},
   "outputs": [
    {
     "data": {
      "application/vnd.jupyter.widget-view+json": {
       "model_id": "a2bc9da147fa48fa8a34323a340d2b12",
       "version_major": 2,
       "version_minor": 0
      },
      "text/plain": [
       "HBox(children=(IntProgress(value=0, max=515937), HTML(value='')))"
      ]
     },
     "metadata": {},
     "output_type": "display_data"
    },
    {
     "name": "stdout",
     "output_type": "stream",
     "text": [
      "\n"
     ]
    }
   ],
   "source": [
    "classes_num = y_train.nunique()\n",
    "y_train_binary = np.zeros((len(y_train), classes_num))\n",
    "\n",
    "for i in tqdm.tqdm_notebook(range(len(y_train))):\n",
    "    y_train_binary[i][int(y_train[i])-1] = 1"
   ]
  },
  {
   "cell_type": "code",
   "execution_count": 7,
   "metadata": {},
   "outputs": [],
   "source": [
    "from scipy.stats import rankdata\n",
    "from itertools import cycle\n",
    "import numpy as np\n",
    "from sklearn.base import BaseEstimator, ClassifierMixin\n",
    "from sklearn.model_selection import train_test_split\n",
    "\n",
    "class ShuffleVoter(BaseEstimator, ClassifierMixin):  \n",
    "    \"\"\"\n",
    "       scikit-learn based voting aggregation ensembling.\n",
    "       Using bootstrapping creates a set of models, differing only by which data sample they are fed\n",
    "       \"\"\"\n",
    "\n",
    "    def __init__(self, models):\n",
    "        \"\"\"\n",
    "        model - base model ( or a pipeline ) ( unfitted )\n",
    "        \"\"\"\n",
    "        self.models = models\n",
    "#         self.clfs = []\n",
    "        \n",
    "    def ensemble_predictions(self, predictions, weights, type_=\"harmonic\"):\n",
    "        \"\"\"\n",
    "        Combines probabilistic class estimates using a variety of strategies.\n",
    "        Linear, harmonic, geometric and rank averaging are supported at this moment. \n",
    "        Insipred by well known Abhishek's kernel on Kaggle \n",
    "        model - base model ( or a pipeline ) ( unfitted )\n",
    "        \"\"\"\n",
    "        assert np.isclose(np.sum(weights), 1.0)\n",
    "        if type_ == \"linear\":\n",
    "            res = np.average(predictions, weights=weights, axis=0)\n",
    "        elif type_ == \"harmonic\":\n",
    "            res = np.average([1 / p for p in predictions], weights=weights, axis=0)\n",
    "            return 1 / res\n",
    "        elif type_ == \"geometric\":\n",
    "            numerator = np.average(\n",
    "                [np.log(p) for p in predictions], weights=weights, axis=0\n",
    "            )\n",
    "            res = np.exp(numerator / sum(weights))\n",
    "            return res\n",
    "        elif type_ == \"rank\":\n",
    "            res = np.average([rankdata(p) for p in predictions], weights=weights, axis=0)\n",
    "            return res / (len(res) + 1)\n",
    "        return res\n",
    "\n",
    "\n",
    "    def fit( self, X, y, n_boots = 14, test_size = 100):\n",
    "        \"\"\"\n",
    "        n_boots - number of bootstrapping iterations ( and respective models built)\n",
    "        \"\"\"\n",
    "        self.clfs  = []\n",
    "        for i, model in zip(range(n_boots), cycle(self.models)):\n",
    "            X_tr, X_te, y_tr, y_te = train_test_split( X, y, test_size=test_size, random_state=3521 + i*11)\n",
    "\n",
    "            pa_clf = model\n",
    "            pa_clf.fit(X_tr, y_tr)\n",
    "\n",
    "            self.clfs.append(pa_clf)\n",
    "\n",
    "    def predict( self, X, ensemble_type = 'rank', threshold=0.7):\n",
    "        # TODO: nonuniform weights\n",
    "        \n",
    "        n_boots = len( self.clfs)\n",
    "        preds = [ clf.predict(X) for clf in self.clfs ]\n",
    "#         return self.ensemble_predictions( preds, np.ones(n_boots)*(1/float(n_boots)), ensemble_type)\n",
    "        return self.ensemble_predictions( preds, np.ones(n_boots)*(1/float(n_boots)), ensemble_type)\n",
    "\n",
    "    \n",
    "    def predict_proba( self, X, ensemble_type = 'rank' ):\n",
    "        n_boots = len( self.clfs)\n",
    "        preds = [ clf.predict_proba(X) for clf in self.clfs ]\n",
    "        return self.ensemble_predictions( preds, np.ones(n_boots)*(1/float(n_boots)), ensemble_type)"
   ]
  },
  {
   "cell_type": "code",
   "execution_count": 16,
   "metadata": {},
   "outputs": [],
   "source": [
    "from sklearn.naive_bayes import BernoulliNB\n",
    "from sklearn.tree import DecisionTreeClassifier\n",
    "from sklearn.ensemble import ExtraTreesClassifier\n",
    "from sklearn.naive_bayes import GaussianNB\n",
    "from sklearn.neighbors import KNeighborsClassifier\n",
    "from sklearn.linear_model import PassiveAggressiveClassifier\n",
    "from sklearn.svm import LinearSVC\n",
    "from sklearn.ensemble import RandomForestClassifier"
   ]
  },
  {
   "cell_type": "code",
   "execution_count": 24,
   "metadata": {},
   "outputs": [],
   "source": [
    "def get_pipelines():\n",
    "    DT_pipeline = Pipeline([\n",
    "                    ('clf', DecisionTreeClassifier(criterion='gini', \n",
    "                                                   max_depth=8,\n",
    "                                                  max_features='auto',\n",
    "                                                  min_samples_leaf=6,\n",
    "                                                  min_samples_split=9,\n",
    "                                                  min_weight_fraction_leaf=0.00159)),\n",
    "                ])\n",
    "    \n",
    "    RF_pipeline = Pipeline([\n",
    "        ('clf', RandomForestClassifier(criterion='entropy', \n",
    "                                                   max_depth=17,\n",
    "                                                  max_features='auto',\n",
    "                                                  min_samples_leaf=7,\n",
    "                                                  min_samples_split=7,\n",
    "                                                  min_weight_fraction_leaf=0.000367))\n",
    "    ])\n",
    "    \n",
    "    ET_pipeline = Pipeline([\n",
    "                    ('clf', ExtraTreesClassifier(criterion='entropy', \n",
    "                                                   max_depth=17,\n",
    "                                                  max_features='sqrt',\n",
    "                                                  min_samples_leaf=7,\n",
    "                                                  min_samples_split=9,\n",
    "                                                  min_weight_fraction_leaf=0.000217))\n",
    "                ])\n",
    "    \n",
    "    GN_pipeline = Pipeline([\n",
    "                    ('clf', GaussianNB(var_smoothing=1.0002879974657864e-10)),\n",
    "                ])\n",
    "\n",
    "    KN_pipeline = Pipeline([\n",
    "                    ('clf', KNeighborsClassifier()),\n",
    "                ])\n",
    "    \n",
    "    PA_pipeline = Pipeline([\n",
    "                ('clf', PassiveAggressiveClassifier()),\n",
    "            ])\n",
    "    \n",
    "    SVC_pipeline = Pipeline([\n",
    "                    ('clf', LinearSVC()),\n",
    "                ])\n",
    "\n",
    "    pipelines = {'dt': DT_pipeline, 'rf': RF_pipeline, 'extra_tree': ET_pipeline, 'gaus_nb': GN_pipeline}\n",
    "    \n",
    "    return pipelines"
   ]
  },
  {
   "cell_type": "code",
   "execution_count": 25,
   "metadata": {},
   "outputs": [],
   "source": [
    "def test_pipeline(X, y, pipeline):\n",
    "    rskf = StratifiedKFold(n_splits=5, random_state=1)\n",
    "    rmse_scores = []\n",
    "    for train_index, test_index in rskf.split(X, y):\n",
    "        X_train, X_test = X[train_index], X[test_index]\n",
    "        y_train, y_test = y[train_index], y[test_index]\n",
    "        pipeline.fit(X_train, y_train)\n",
    "        rmse_scores.append(np.sqrt(mean_squared_error(y_test, pipeline.predict(X_test))))\n",
    "\n",
    "    print(\"kfolds rmse: {0}, mean rmse: {1}\".format(\n",
    "        str([str(round(x, 3)) for x in sorted(rmse_scores)]),\n",
    "        round(np.mean(rmse_scores), 3)\n",
    "    ))"
   ]
  },
  {
   "cell_type": "code",
   "execution_count": 26,
   "metadata": {},
   "outputs": [],
   "source": [
    "pipelines = get_pipelines()"
   ]
  },
  {
   "cell_type": "code",
   "execution_count": 27,
   "metadata": {},
   "outputs": [
    {
     "data": {
      "text/plain": [
       "(515937, 46)"
      ]
     },
     "execution_count": 27,
     "metadata": {},
     "output_type": "execute_result"
    }
   ],
   "source": [
    "X_train.shape"
   ]
  },
  {
   "cell_type": "code",
   "execution_count": 28,
   "metadata": {},
   "outputs": [
    {
     "data": {
      "text/plain": [
       "(221117, 46)"
      ]
     },
     "execution_count": 28,
     "metadata": {},
     "output_type": "execute_result"
    }
   ],
   "source": [
    "X_test.shape"
   ]
  },
  {
   "cell_type": "code",
   "execution_count": 29,
   "metadata": {
    "scrolled": true
   },
   "outputs": [
    {
     "name": "stdout",
     "output_type": "stream",
     "text": [
      "Class: 0\n"
     ]
    },
    {
     "name": "stderr",
     "output_type": "stream",
     "text": [
      "/home/whiteRa2bit/anaconda3/lib/python3.7/site-packages/sklearn/ensemble/forest.py:245: FutureWarning: The default value of n_estimators will change from 10 in version 0.20 to 100 in 0.22.\n",
      "  \"10 in version 0.20 to 100 in 0.22.\", FutureWarning)\n",
      "/home/whiteRa2bit/anaconda3/lib/python3.7/site-packages/sklearn/ensemble/forest.py:245: FutureWarning: The default value of n_estimators will change from 10 in version 0.20 to 100 in 0.22.\n",
      "  \"10 in version 0.20 to 100 in 0.22.\", FutureWarning)\n"
     ]
    },
    {
     "name": "stdout",
     "output_type": "stream",
     "text": [
      "Class: 1\n",
      "Class: 2\n",
      "Class: 3\n",
      "Class: 4\n"
     ]
    }
   ],
   "source": [
    "my_shuffle_voter = ShuffleVoter(list(pipelines.values()))\n",
    "\n",
    "y_pred_binary = []\n",
    "for i in range(classes_num):\n",
    "    print(\"Class:\", i)\n",
    "    y_train = y_train_binary[:, i].copy()\n",
    "    my_shuffle_voter.fit(X_train, y_train)\n",
    "    y_proba = my_shuffle_voter.predict_proba(X_test)[1::2]\n",
    "    y_pred_binary.append(y_proba)\n",
    "\n",
    "# y_pred_binary = np.transpose(np.array(y_pred_binary))\n",
    "# print(\"RMSE with argmax:\", np.sqrt(mean_squared_error(np.argmax(y_pred_binary, axis=1),\\\n",
    "#                                                       np.argmax(y_test_binary, axis=1))))\n",
    "\n",
    "# sums = np.sum(y_pred_binary, axis=1)\n",
    "# sums[sums<0.005] = 1\n",
    "\n",
    "# y_pred_binary_norm = (y_pred_binary / sums[:, None])\n",
    "# y_pred = np.dot(y_pred_binary_norm, np.arange(1, 6))\n",
    "# print(\"RMSE with weighted average:\", np.sqrt(mean_squared_error(np.argmax(y_pred_binary, axis=1),\\\n",
    "#                                     y_pred)))\n",
    "# print('-----------------------------------------')"
   ]
  },
  {
   "cell_type": "code",
   "execution_count": 30,
   "metadata": {},
   "outputs": [],
   "source": [
    "y_pred_binary = np.transpose(np.array(y_pred_binary))\n",
    "sums = np.sum(y_pred_binary, axis=1)\n",
    "sums[sums<0.005] = 1\n",
    "y_pred_binary_norm = (y_pred_binary / sums[:, None])\n",
    "y_pred = np.dot(y_pred_binary_norm, np.arange(1, 6))"
   ]
  },
  {
   "cell_type": "code",
   "execution_count": 31,
   "metadata": {},
   "outputs": [
    {
     "data": {
      "text/plain": [
       "array([2.75907824, 3.90948414, 3.59149146, 3.16831831, 3.68541109,\n",
       "       3.98799161, 2.97942037, 3.33016171, 4.13146298, 4.44963485])"
      ]
     },
     "execution_count": 31,
     "metadata": {},
     "output_type": "execute_result"
    }
   ],
   "source": [
    "y_pred"
   ]
  },
  {
   "cell_type": "code",
   "execution_count": 37,
   "metadata": {},
   "outputs": [],
   "source": [
    "np.save('ensemble_pred.npy', y_pred)"
   ]
  },
  {
   "cell_type": "code",
   "execution_count": 32,
   "metadata": {},
   "outputs": [],
   "source": [
    "sample = pd.read_csv('./data/origin/sample_submission_L0aRkDL.csv')"
   ]
  },
  {
   "cell_type": "code",
   "execution_count": 38,
   "metadata": {},
   "outputs": [],
   "source": [
    "sample['damage_grade'] = np.round(y_pred+0.5)"
   ]
  },
  {
   "cell_type": "code",
   "execution_count": 39,
   "metadata": {},
   "outputs": [],
   "source": [
    "sample.to_csv(\"./prediction/ensemble.csv\", index=False)"
   ]
  },
  {
   "cell_type": "markdown",
   "metadata": {},
   "source": [
    "### --------------------------------"
   ]
  },
  {
   "cell_type": "code",
   "execution_count": 84,
   "metadata": {
    "scrolled": false
   },
   "outputs": [
    {
     "name": "stdout",
     "output_type": "stream",
     "text": [
      "DecisionTreeClassifier\n",
      "Class: 0\n",
      "Class: 1\n",
      "Class: 2\n",
      "Class: 3\n",
      "Class: 4\n",
      "RMSE with argmax: 1.8066392611725448\n",
      "[[0. 0. 0. 1. 1.]]\n",
      "[[0.  0.  0.  0.5 0.5]]\n",
      "1.0\n",
      "RMSE with weighted average: 1.1876480980520956\n",
      "-----------------------------------------\n",
      "ExtraTreesClassifier\n",
      "Class: 0\n",
      "Class: 1\n",
      "Class: 2\n",
      "Class: 3\n",
      "Class: 4\n",
      "RMSE with argmax: 1.2032070053505097\n",
      "[[0.  0.  0.2 0.3 0.5]]\n",
      "[[0.  0.  0.2 0.3 0.5]]\n",
      "1.0\n",
      "RMSE with weighted average: 1.2314166370264739\n",
      "-----------------------------------------\n",
      "GaussianNB\n",
      "Class: 0\n",
      "Class: 1\n",
      "Class: 2\n",
      "Class: 3\n",
      "Class: 4\n",
      "RMSE with argmax: 1.3539169313882085\n",
      "[[2.72627848e-06 2.24243386e-03 9.99782898e-01 9.97391924e-01\n",
      "  9.99969746e-01]]\n",
      "[[9.08944395e-07 7.47630041e-04 3.33328773e-01 3.32531620e-01\n",
      "  3.33391068e-01]]\n",
      "0.9999999999999999\n",
      "RMSE with weighted average: 1.2524460231787469\n",
      "-----------------------------------------\n"
     ]
    }
   ],
   "source": [
    "y_pred_models = []\n",
    "for pipeline in list(pipelines.values()):\n",
    "    print(type(pipeline[0]).__name__)\n",
    "    y_pred_binary = []\n",
    "    for i in range(classes_num):\n",
    "        print(\"Class:\", i)\n",
    "        y_train = y_train_binary[:, i].copy()\n",
    "        y_test = y_test_binary[:, i].copy()\n",
    "        pipeline.fit(X_train, y_train)\n",
    "        y_proba = pipeline.predict_proba(X_test)[:, 1]\n",
    "        y_pred_binary.append(y_proba)\n",
    "    y_pred_binary = np.transpose(np.array(y_pred_binary))\n",
    "    print(\"RMSE with argmax:\", np.sqrt(mean_squared_error(np.argmax(y_pred_binary, axis=1),\\\n",
    "                                                          np.argmax(y_test_binary, axis=1))))\n",
    "    \n",
    "    sums = np.sum(y_pred_binary, axis=1)\n",
    "    sums[sums<0.005] = 1\n",
    "\n",
    "#     print(y_pred_binary[:1])\n",
    "    y_pred_binary_norm = (y_pred_binary / sums[:, None])\n",
    "#     print(y_pred_binary_norm[:1])\n",
    "    print(np.sum(y_pred_binary_norm[:1]))\n",
    "    y_pred_models.append(y_pred_binary)\n",
    "    y_pred = np.dot(y_pred_binary_norm, np.arange(1, 6))\n",
    "    print(\"RMSE with weighted average:\", np.sqrt(mean_squared_error(np.argmax(y_pred_binary, axis=1),\\\n",
    "                                        y_pred)))\n",
    "    print('-----------------------------------------')"
   ]
  },
  {
   "cell_type": "code",
   "execution_count": 96,
   "metadata": {},
   "outputs": [
    {
     "name": "stdout",
     "output_type": "stream",
     "text": [
      "RMSE with argmax: 1.3539169313882085\n",
      "RMSE with weighted average: 1.2524460231787469\n",
      "-----------------------------------------\n"
     ]
    }
   ],
   "source": [
    "# y_pred_binary = np.transpose(np.array(y_pred_binary))\n",
    "print(\"RMSE with argmax:\", np.sqrt(mean_squared_error(np.argmax(y_pred_binary, axis=1),\\\n",
    "                                                      np.argmax(y_test_binary, axis=1))))\n",
    "\n",
    "sums = np.sum(y_pred_binary, axis=1)\n",
    "sums[sums<0.005] = 1\n",
    "\n",
    "#     print(y_pred_binary[:1])\n",
    "y_pred_binary_norm = (y_pred_binary / sums[:, None])\n",
    "#     print(y_pred_binary_norm[:1])\n",
    "y_pred = np.dot(y_pred_binary_norm, np.arange(1, 6))\n",
    "print(\"RMSE with weighted average:\", np.sqrt(mean_squared_error(np.argmax(y_pred_binary, axis=1),\\\n",
    "                                    y_pred)))\n",
    "print('-----------------------------------------')"
   ]
  },
  {
   "cell_type": "code",
   "execution_count": 75,
   "metadata": {},
   "outputs": [
    {
     "data": {
      "text/plain": [
       "array([False, False, False, ..., False, False, False])"
      ]
     },
     "execution_count": 75,
     "metadata": {},
     "output_type": "execute_result"
    }
   ],
   "source": [
    "np.sum(y_pred_binary, axis=1) < 0.1"
   ]
  },
  {
   "cell_type": "code",
   "execution_count": 120,
   "metadata": {
    "scrolled": true
   },
   "outputs": [
    {
     "name": "stdout",
     "output_type": "stream",
     "text": [
      "Class: 0\n",
      "Class: 1\n",
      "Class: 2\n",
      "Class: 3\n",
      "Class: 4\n",
      "RMSE with argmax: 1.1899082702753074\n",
      "RMSE with weighted average: 1.0912748981678495\n",
      "-----------------------------------------\n"
     ]
    }
   ],
   "source": [
    "my_shuffle_voter = ShuffleVoter(list(pipelines.values()))\n",
    "\n",
    "y_pred_binary = []\n",
    "for i in range(classes_num):\n",
    "    print(\"Class:\", i)\n",
    "    y_train = y_train_binary[:, i].copy()\n",
    "    y_test = y_test_binary[:, i].copy()\n",
    "    my_shuffle_voter.fit(X_train, y_train)\n",
    "    y_proba = my_shuffle_voter.predict_proba(X_test)[1::2]\n",
    "    y_pred_binary.append(y_proba)\n",
    "\n",
    "y_pred_binary = np.transpose(np.array(y_pred_binary))\n",
    "print(\"RMSE with argmax:\", np.sqrt(mean_squared_error(np.argmax(y_pred_binary, axis=1),\\\n",
    "                                                      np.argmax(y_test_binary, axis=1))))\n",
    "\n",
    "sums = np.sum(y_pred_binary, axis=1)\n",
    "sums[sums<0.005] = 1\n",
    "\n",
    "y_pred_binary_norm = (y_pred_binary / sums[:, None])\n",
    "y_pred = np.dot(y_pred_binary_norm, np.arange(1, 6))\n",
    "print(\"RMSE with weighted average:\", np.sqrt(mean_squared_error(np.argmax(y_pred_binary, axis=1),\\\n",
    "                                    y_pred)))\n",
    "print('-----------------------------------------')"
   ]
  },
  {
   "cell_type": "code",
   "execution_count": 68,
   "metadata": {},
   "outputs": [
    {
     "name": "stderr",
     "output_type": "stream",
     "text": [
      "/home/whiteRa2bit/anaconda3/lib/python3.7/site-packages/ipykernel_launcher.py:1: RuntimeWarning: invalid value encountered in greater\n",
      "  \"\"\"Entry point for launching an IPython kernel.\n"
     ]
    },
    {
     "data": {
      "text/plain": [
       "10108"
      ]
     },
     "execution_count": 68,
     "metadata": {},
     "output_type": "execute_result"
    }
   ],
   "source": [
    "np.sum(np.sum(y_pred_binary_norm, axis=1) > 1)"
   ]
  },
  {
   "cell_type": "code",
   "execution_count": 53,
   "metadata": {},
   "outputs": [
    {
     "data": {
      "text/plain": [
       "(103188,)"
      ]
     },
     "execution_count": 53,
     "metadata": {},
     "output_type": "execute_result"
    }
   ],
   "source": [
    "np.sum(y_pred_binary, axis=1).shape"
   ]
  },
  {
   "cell_type": "code",
   "execution_count": 56,
   "metadata": {},
   "outputs": [
    {
     "name": "stderr",
     "output_type": "stream",
     "text": [
      "/home/whiteRa2bit/anaconda3/lib/python3.7/site-packages/ipykernel_launcher.py:1: RuntimeWarning: invalid value encountered in true_divide\n",
      "  \"\"\"Entry point for launching an IPython kernel.\n"
     ]
    },
    {
     "data": {
      "text/plain": [
       "array([[0.        , 0.        , 0.45454545, 0.18181818, 0.36363636],\n",
       "       [0.0625    , 0.0625    , 0.0625    , 0.3125    , 0.5       ],\n",
       "       [0.09090909, 0.09090909, 0.45454545, 0.09090909, 0.27272727],\n",
       "       ...,\n",
       "       [0.09090909, 0.18181818, 0.09090909, 0.54545455, 0.09090909],\n",
       "       [0.        , 0.16666667, 0.41666667, 0.33333333, 0.08333333],\n",
       "       [0.        , 0.        , 0.2       , 0.        , 0.8       ]])"
      ]
     },
     "execution_count": 56,
     "metadata": {},
     "output_type": "execute_result"
    }
   ],
   "source": []
  },
  {
   "cell_type": "code",
   "execution_count": 30,
   "metadata": {},
   "outputs": [
    {
     "data": {
      "text/plain": [
       "(103188, 5)"
      ]
     },
     "execution_count": 30,
     "metadata": {},
     "output_type": "execute_result"
    }
   ],
   "source": [
    "y_pred_binary.shape"
   ]
  },
  {
   "cell_type": "code",
   "execution_count": 51,
   "metadata": {},
   "outputs": [
    {
     "data": {
      "text/plain": [
       "(103188, 5)"
      ]
     },
     "execution_count": 51,
     "metadata": {},
     "output_type": "execute_result"
    }
   ],
   "source": [
    "y_pred_binary.shape"
   ]
  },
  {
   "cell_type": "code",
   "execution_count": null,
   "metadata": {},
   "outputs": [],
   "source": []
  },
  {
   "cell_type": "code",
   "execution_count": 57,
   "metadata": {},
   "outputs": [
    {
     "name": "stderr",
     "output_type": "stream",
     "text": [
      "/home/whiteRa2bit/anaconda3/lib/python3.7/site-packages/ipykernel_launcher.py:1: RuntimeWarning: invalid value encountered in true_divide\n",
      "  \"\"\"Entry point for launching an IPython kernel.\n"
     ]
    },
    {
     "data": {
      "text/plain": [
       "array([3.90909091, 4.125     , 3.36363636, ..., 3.36363636, 3.33333333,\n",
       "       4.6       ])"
      ]
     },
     "execution_count": 57,
     "metadata": {},
     "output_type": "execute_result"
    }
   ],
   "source": []
  },
  {
   "cell_type": "code",
   "execution_count": 44,
   "metadata": {},
   "outputs": [
    {
     "data": {
      "text/plain": [
       "array([1, 2, 3, 4, 5])"
      ]
     },
     "execution_count": 44,
     "metadata": {},
     "output_type": "execute_result"
    }
   ],
   "source": []
  },
  {
   "cell_type": "code",
   "execution_count": 45,
   "metadata": {},
   "outputs": [
    {
     "data": {
      "text/plain": [
       "4.3"
      ]
     },
     "execution_count": 45,
     "metadata": {},
     "output_type": "execute_result"
    }
   ],
   "source": []
  },
  {
   "cell_type": "code",
   "execution_count": 43,
   "metadata": {},
   "outputs": [
    {
     "data": {
      "text/plain": [
       "array([0. , 0. , 0.5, 0.2, 0.4])"
      ]
     },
     "execution_count": 43,
     "metadata": {},
     "output_type": "execute_result"
    }
   ],
   "source": [
    "y_pred_binary[0] "
   ]
  },
  {
   "cell_type": "code",
   "execution_count": 31,
   "metadata": {},
   "outputs": [
    {
     "data": {
      "text/plain": [
       "array([0. , 0. , 0.5, 0.2, 0.4])"
      ]
     },
     "execution_count": 31,
     "metadata": {},
     "output_type": "execute_result"
    }
   ],
   "source": [
    "y_pred_binary[0]"
   ]
  },
  {
   "cell_type": "code",
   "execution_count": 32,
   "metadata": {},
   "outputs": [
    {
     "data": {
      "text/plain": [
       "array([0.1, 0.1, 0.1, 0.5, 0.8])"
      ]
     },
     "execution_count": 32,
     "metadata": {},
     "output_type": "execute_result"
    }
   ],
   "source": [
    "y_pred_binary[1]"
   ]
  },
  {
   "cell_type": "code",
   "execution_count": 37,
   "metadata": {},
   "outputs": [
    {
     "data": {
      "text/plain": [
       "array([[0. , 0. , 0.5, 0.2, 0.4],\n",
       "       [0.1, 0.1, 0.1, 0.5, 0.8],\n",
       "       [0.1, 0.1, 0.5, 0.1, 0.3],\n",
       "       [0. , 0.5, 0.5, 0. , 0.4],\n",
       "       [0. , 0.1, 0.2, 0.3, 0.4]])"
      ]
     },
     "execution_count": 37,
     "metadata": {},
     "output_type": "execute_result"
    }
   ],
   "source": [
    "y_pred_binary[:5]"
   ]
  },
  {
   "cell_type": "code",
   "execution_count": 36,
   "metadata": {},
   "outputs": [
    {
     "data": {
      "text/plain": [
       "array([[0., 0., 0., 1., 0.],\n",
       "       [0., 0., 0., 0., 1.],\n",
       "       [1., 0., 0., 0., 0.],\n",
       "       [0., 0., 0., 0., 1.],\n",
       "       [0., 0., 1., 0., 0.]])"
      ]
     },
     "execution_count": 36,
     "metadata": {},
     "output_type": "execute_result"
    }
   ],
   "source": [
    "y_test_binary[:5]"
   ]
  },
  {
   "cell_type": "code",
   "execution_count": 38,
   "metadata": {},
   "outputs": [
    {
     "data": {
      "text/plain": [
       "(103188, 5)"
      ]
     },
     "execution_count": 38,
     "metadata": {},
     "output_type": "execute_result"
    }
   ],
   "source": [
    "y_pred_binary.shape"
   ]
  },
  {
   "cell_type": "code",
   "execution_count": 39,
   "metadata": {},
   "outputs": [
    {
     "data": {
      "text/plain": [
       "(103188, 5)"
      ]
     },
     "execution_count": 39,
     "metadata": {},
     "output_type": "execute_result"
    }
   ],
   "source": [
    "y_test_binary.shape"
   ]
  },
  {
   "cell_type": "code",
   "execution_count": 40,
   "metadata": {},
   "outputs": [
    {
     "data": {
      "text/plain": [
       "(103188,)"
      ]
     },
     "execution_count": 40,
     "metadata": {},
     "output_type": "execute_result"
    }
   ],
   "source": []
  },
  {
   "cell_type": "code",
   "execution_count": 42,
   "metadata": {},
   "outputs": [
    {
     "data": {
      "text/plain": [
       "1.205359618174216"
      ]
     },
     "execution_count": 42,
     "metadata": {},
     "output_type": "execute_result"
    }
   ],
   "source": [
    "np.sqrt(mean_squared_error(np.argmax(y_pred_binary, axis=1), np.argmax(y_test_binary, axis=1)))"
   ]
  }
 ],
 "metadata": {
  "kernelspec": {
   "display_name": "Python 3",
   "language": "python",
   "name": "python3"
  },
  "language_info": {
   "codemirror_mode": {
    "name": "ipython",
    "version": 3
   },
   "file_extension": ".py",
   "mimetype": "text/x-python",
   "name": "python",
   "nbconvert_exporter": "python",
   "pygments_lexer": "ipython3",
   "version": "3.7.3"
  }
 },
 "nbformat": 4,
 "nbformat_minor": 2
}
