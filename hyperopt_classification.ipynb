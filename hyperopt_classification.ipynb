{
 "cells": [
  {
   "cell_type": "code",
   "execution_count": 1,
   "metadata": {},
   "outputs": [],
   "source": [
    "import matplotlib.pyplot as plt\n",
    "import numpy as np\n",
    "from sklearn.model_selection import train_test_split\n",
    "from sklearn.metrics import mean_squared_error\n",
    "from sklearn.model_selection import cross_validate\n",
    "import tqdm\n",
    "import random\n",
    "import pandas as pd"
   ]
  },
  {
   "cell_type": "code",
   "execution_count": 2,
   "metadata": {},
   "outputs": [],
   "source": [
    "from sklearn.pipeline import Pipeline\n",
    "from sklearn.naive_bayes import BernoulliNB\n",
    "from sklearn.tree import DecisionTreeClassifier\n",
    "from sklearn.ensemble import ExtraTreesClassifier\n",
    "from sklearn.naive_bayes import GaussianNB\n",
    "from sklearn.neighbors import KNeighborsClassifier\n",
    "from sklearn.svm import LinearSVC\n",
    "from sklearn.linear_model import LogisticRegression \n",
    "from sklearn.linear_model import PassiveAggressiveClassifier\n",
    "from sklearn.svm import SVC\n",
    "from sklearn.ensemble import RandomForestClassifier\n",
    "from sklearn.ensemble import VotingClassifier\n",
    "from sklearn.model_selection import StratifiedKFold"
   ]
  },
  {
   "cell_type": "code",
   "execution_count": 3,
   "metadata": {},
   "outputs": [],
   "source": [
    "import warnings\n",
    "warnings.filterwarnings(\"ignore\")"
   ]
  },
  {
   "cell_type": "code",
   "execution_count": 4,
   "metadata": {},
   "outputs": [],
   "source": [
    "df_train = pd.read_csv('./data/train.csv')\n",
    "df_test = pd.read_csv('./data/test.csv')"
   ]
  },
  {
   "cell_type": "code",
   "execution_count": 5,
   "metadata": {},
   "outputs": [],
   "source": [
    "from preprocess import preprocess\n",
    "\n",
    "X_train, X_test, y_train = preprocess(df_train, df_test, use_custom_target_encoding=True, use_scaling=True, \\\n",
    "                                                     filter_features=False)"
   ]
  },
  {
   "cell_type": "code",
   "execution_count": 6,
   "metadata": {},
   "outputs": [],
   "source": [
    "objects_num = 50000\n",
    "\n",
    "X = X_train[:objects_num]\n",
    "y = y_train[:objects_num]"
   ]
  },
  {
   "cell_type": "markdown",
   "metadata": {},
   "source": [
    "### Hyperopt"
   ]
  },
  {
   "cell_type": "code",
   "execution_count": 7,
   "metadata": {},
   "outputs": [],
   "source": [
    "from hyperopt.pyll import scope as ho_scope\n",
    "from hyperopt import fmin, tpe, hp"
   ]
  },
  {
   "cell_type": "markdown",
   "metadata": {},
   "source": [
    "### BernoulliNB"
   ]
  },
  {
   "cell_type": "code",
   "execution_count": 8,
   "metadata": {},
   "outputs": [],
   "source": [
    "iter_num = 250"
   ]
  },
  {
   "cell_type": "code",
   "execution_count": 9,
   "metadata": {},
   "outputs": [
    {
     "name": "stdout",
     "output_type": "stream",
     "text": [
      "100%|██████████| 250/250 [00:51<00:00,  4.83it/s, best loss: 1.514992505200684]\n",
      "Found minimum after 250 trials:\n",
      "{'C': 1.5585468574616144, 'fit_prior': 1}\n"
     ]
    }
   ],
   "source": [
    "def f(space):\n",
    "    model = BernoulliNB(alpha=space['alpha'], fit_prior=space['fit_prior'])\n",
    "    \n",
    "    rskf = StratifiedKFold(n_splits=3, random_state=1)\n",
    "    rmse_scores = []\n",
    "    for train_index, test_index in rskf.split(X, y):\n",
    "        X_train, X_test = X[train_index], X[test_index]\n",
    "        y_train, y_test = y[train_index], y[test_index]\n",
    "        model.fit(X_train, y_train)\n",
    "        rmse_scores.append(np.sqrt(mean_squared_error(y_test, model.predict(X_test))))\n",
    "    return np.mean(rmse_scores)\n",
    "\n",
    "\n",
    "space = {\n",
    "        'alpha': hp.loguniform('C', low=np.log(0.01), high=np.log(3)),\n",
    "        'fit_prior':  hp.choice('fit_prior', [True, False]),\n",
    "}\n",
    "\n",
    "best = fmin(\n",
    "    fn=f,  # \"Loss\" function to minimize\n",
    "    space=space,  # Hyperparameter space\n",
    "    algo=tpe.suggest,  # Tree-structured Parzen Estimator (TPE)\n",
    "    max_evals=iter_num  # Perform 100 trials\n",
    ")\n",
    "\n",
    "print(\"Found minimum after %d trials:\" %(iter_num))\n",
    "print(best)"
   ]
  },
  {
   "cell_type": "markdown",
   "metadata": {},
   "source": [
    "### Decision tree"
   ]
  },
  {
   "cell_type": "code",
   "execution_count": 10,
   "metadata": {},
   "outputs": [
    {
     "name": "stdout",
     "output_type": "stream",
     "text": [
      "100%|██████████| 250/250 [00:44<00:00,  4.78it/s, best loss: 1.2444849111002736]\n",
      "Found minimum after 250 trials:\n",
      "{'criterion': 0, 'max_depth': 8, 'max_features': 0, 'min_samples_leaf': 6.0, 'min_samples_split': 9.0, 'min_weight_fraction_leaf': 0.0015932365030179585}\n"
     ]
    }
   ],
   "source": [
    "def f(space):\n",
    "    model = DecisionTreeClassifier(max_depth=space['max_depth'], max_features=space['max_features'],\\\n",
    "                                  criterion=space['criterion'], min_samples_split=space['min_samples_split'],\\\n",
    "                                  min_samples_leaf=space['min_samples_leaf'], min_weight_fraction_leaf = space['min_weight_fraction_leaf'])\n",
    "    \n",
    "    rskf = StratifiedKFold(n_splits=3, random_state=1)\n",
    "    rmse_scores = []\n",
    "    for train_index, test_index in rskf.split(X, y):\n",
    "        X_train, X_test = X[train_index], X[test_index]\n",
    "        y_train, y_test = y[train_index], y[test_index]\n",
    "        model.fit(X_train, y_train)\n",
    "        rmse_scores.append(np.sqrt(mean_squared_error(y_test, model.predict(X_test))))\n",
    "    return np.mean(rmse_scores)\n",
    "    \n",
    "space = {\n",
    "    'max_depth': hp.choice('max_depth', range(1,20)),\n",
    "    'max_features': hp.choice('max_features', ['auto', 'sqrt', 'log2']),\n",
    "    'criterion': hp.choice('criterion', [\"gini\", \"entropy\"]),\n",
    "    'min_samples_split': ho_scope.int(hp.quniform('min_samples_split', low=2, high=10, q=1)),\n",
    "    'min_samples_leaf':  ho_scope.int(hp.quniform('min_samples_leaf', low=1, high=10, q=1)),\n",
    "    'min_weight_fraction_leaf': hp.uniform('min_weight_fraction_leaf', 0, 0.5),\n",
    "}\n",
    "\n",
    "best = fmin(\n",
    "    fn=f,  # \"Loss\" function to minimize\n",
    "    space=space,  # Hyperparameter space\n",
    "    algo=tpe.suggest,  # Tree-structured Parzen Estimator (TPE)\n",
    "    max_evals=iter_num  # Perform 100 trials\n",
    ")\n",
    "\n",
    "print(\"Found minimum after %d trials:\" %(iter_num))\n",
    "print(best)"
   ]
  },
  {
   "cell_type": "markdown",
   "metadata": {},
   "source": [
    "### Extra Tree Clasifier"
   ]
  },
  {
   "cell_type": "code",
   "execution_count": 11,
   "metadata": {
    "scrolled": true
   },
   "outputs": [
    {
     "name": "stdout",
     "output_type": "stream",
     "text": [
      "100%|██████████| 250/250 [01:18<00:00,  3.02it/s, best loss: 1.2959788757399178]\n",
      "Found minimum after 250 trials:\n",
      "{'criterion': 1, 'max_depth': 17, 'max_features': 1, 'min_samples_leaf': 7.0, 'min_samples_split': 8.0, 'min_weight_fraction_leaf': 0.0002173047975415648}\n"
     ]
    }
   ],
   "source": [
    "def f(space):\n",
    "    model = ExtraTreesClassifier(max_depth=space['max_depth'], max_features=space['max_features'],\\\n",
    "                                  criterion=space['criterion'], min_samples_split=space['min_samples_split'],\\\n",
    "                                  min_samples_leaf=space['min_samples_leaf'], min_weight_fraction_leaf = space['min_weight_fraction_leaf'])\n",
    "    \n",
    "    rskf = StratifiedKFold(n_splits=3, random_state=1)\n",
    "    rmse_scores = []\n",
    "    for train_index, test_index in rskf.split(X, y):\n",
    "        X_train, X_test = X[train_index], X[test_index]\n",
    "        y_train, y_test = y[train_index], y[test_index]\n",
    "        model.fit(X_train, y_train)\n",
    "        rmse_scores.append(np.sqrt(mean_squared_error(y_test, model.predict(X_test))))\n",
    "    return np.mean(rmse_scores)\n",
    "    \n",
    "space = {\n",
    "    'max_depth': hp.choice('max_depth', range(1,20)),\n",
    "    'max_features': hp.choice('max_features', ['auto', 'sqrt', 'log2']),\n",
    "    'criterion': hp.choice('criterion', [\"gini\", \"entropy\"]),\n",
    "    'min_samples_split': ho_scope.int(hp.quniform('min_samples_split', low=2, high=10, q=1)),\n",
    "    'min_samples_leaf':  ho_scope.int(hp.quniform('min_samples_leaf', low=1, high=10, q=1)),\n",
    "    'min_weight_fraction_leaf': hp.uniform('min_weight_fraction_leaf', 0, 0.5),\n",
    "}\n",
    "\n",
    "best = fmin(\n",
    "    fn=f,  # \"Loss\" function to minimize\n",
    "    space=space,  # Hyperparameter space\n",
    "    algo=tpe.suggest,  # Tree-structured Parzen Estimator (TPE)\n",
    "    max_evals=iter_num  # Perform 100 trials\n",
    ")\n",
    "\n",
    "print(\"Found minimum after %d trials:\" %(iter_num))\n",
    "print(best)"
   ]
  },
  {
   "cell_type": "markdown",
   "metadata": {},
   "source": [
    "### Gaussian NB"
   ]
  },
  {
   "cell_type": "code",
   "execution_count": 12,
   "metadata": {},
   "outputs": [
    {
     "name": "stdout",
     "output_type": "stream",
     "text": [
      "100%|██████████| 250/250 [00:39<00:00,  6.35it/s, best loss: 1.404756645801655]\n",
      "Found minimum after 250 trials:\n",
      "{'var_smoothing': 1.0002879974657864e-10}\n"
     ]
    }
   ],
   "source": [
    "def f(space):\n",
    "    model = GaussianNB(var_smoothing=space['var_smoothing'])\n",
    "    \n",
    "    rskf = StratifiedKFold(n_splits=3, random_state=1)\n",
    "    rmse_scores = []\n",
    "    for train_index, test_index in rskf.split(X, y):\n",
    "        X_train, X_test = X[train_index], X[test_index]\n",
    "        y_train, y_test = y[train_index], y[test_index]\n",
    "        model.fit(X_train, y_train)\n",
    "        rmse_scores.append(np.sqrt(mean_squared_error(y_test, model.predict(X_test))))\n",
    "    return np.mean(rmse_scores)\n",
    "    \n",
    "space = {\n",
    "    'var_smoothing': hp.loguniform('var_smoothing', low=np.log(1e-10), high=np.log(1e-7))\n",
    "}\n",
    "\n",
    "best = fmin(\n",
    "    fn=f,  # \"Loss\" function to minimize\n",
    "    space=space,  # Hyperparameter space\n",
    "    algo=tpe.suggest,  # Tree-structured Parzen Estimator (TPE)\n",
    "    max_evals=iter_num  # Perform 100 trials\n",
    ")\n",
    "\n",
    "print(\"Found minimum after %d trials:\" %(iter_num))\n",
    "print(best)"
   ]
  },
  {
   "cell_type": "markdown",
   "metadata": {},
   "source": [
    "### KNeighbors Classifier"
   ]
  },
  {
   "cell_type": "code",
   "execution_count": 13,
   "metadata": {},
   "outputs": [],
   "source": [
    "objects_num = 10000\n",
    "\n",
    "X = X_train[:objects_num]\n",
    "y = y_train[:objects_num]"
   ]
  },
  {
   "cell_type": "code",
   "execution_count": 14,
   "metadata": {},
   "outputs": [
    {
     "name": "stdout",
     "output_type": "stream",
     "text": [
      "100%|██████████| 250/250 [18:43<00:00,  3.76s/it, best loss: 1.3102311357098289]\n",
      "Found minimum after 250 trials:\n",
      "{'algorithm': 2, 'leaf_size': 38.0, 'n_neighbors': 10.0, 'p': 0, 'weights': 1}\n"
     ]
    }
   ],
   "source": [
    "def f(space):\n",
    "    model = KNeighborsClassifier(n_neighbors=space['n_neighbors'], weights=space['weights'],\\\n",
    "                                 algorithm=space['algorithm'], leaf_size=space['leaf_size'], p=space['p'])\n",
    "    rskf = StratifiedKFold(n_splits=3, random_state=1)\n",
    "    rmse_scores = []\n",
    "    for train_index, test_index in rskf.split(X, y):\n",
    "        X_train, X_test = X[train_index], X[test_index]\n",
    "        y_train, y_test = y[train_index], y[test_index]\n",
    "        model.fit(X_train, y_train)\n",
    "        rmse_scores.append(np.sqrt(mean_squared_error(y_test, model.predict(X_test))))\n",
    "    return np.mean(rmse_scores)\n",
    "\n",
    "space = {\n",
    "        'n_neighbors': ho_scope.int(hp.quniform('n_neighbors', low=2, high=10, q=1)),\n",
    "        'weights':  hp.choice('weights', ['uniform', 'distance']),\n",
    "        'algorithm': hp.choice('algorithm', ['auto', 'ball_tree', 'kd_tree', 'brute']),\n",
    "        'leaf_size': ho_scope.int(hp.quniform('leaf_size', low=4, high=60, q=2)),\n",
    "        'p': hp.choice('p', [1, 2])\n",
    "}\n",
    "    \n",
    "best = fmin(\n",
    "    fn=f,  # \"Loss\" function to minimize\n",
    "    space=space,  # Hyperparameter space\n",
    "    algo=tpe.suggest,  # Tree-structured Parzen Estimator (TPE)\n",
    "    max_evals=iter_num  # Perform 100 trials\n",
    ")\n",
    "\n",
    "print(\"Found minimum after %d trials:\" %(iter_num))\n",
    "print(best)"
   ]
  },
  {
   "cell_type": "markdown",
   "metadata": {},
   "source": [
    "### RandomForest"
   ]
  },
  {
   "cell_type": "code",
   "execution_count": 15,
   "metadata": {},
   "outputs": [],
   "source": [
    "objects_num = 50000\n",
    "\n",
    "X = X_train[:objects_num]\n",
    "y = y_train[:objects_num]"
   ]
  },
  {
   "cell_type": "code",
   "execution_count": 16,
   "metadata": {},
   "outputs": [
    {
     "name": "stdout",
     "output_type": "stream",
     "text": [
      "100%|██████████| 250/250 [04:44<00:00,  1.77s/it, best loss: 1.2105835000743927]\n",
      "Found minimum after 250 trials:\n",
      "{'criterion': 1, 'max_depth': 17, 'max_features': 0, 'min_samples_leaf': 7.0, 'min_samples_split': 7.0, 'min_weight_fraction_leaf': 0.00036030358779944667}\n"
     ]
    }
   ],
   "source": [
    "def f(space):\n",
    "    model = RandomForestClassifier(max_depth=space['max_depth'], max_features=space['max_features'],\\\n",
    "                                  criterion=space['criterion'], min_samples_split=space['min_samples_split'],\\\n",
    "                                  min_samples_leaf=space['min_samples_leaf'], min_weight_fraction_leaf = space['min_weight_fraction_leaf'],\\\n",
    "                                  verbose=0)\n",
    "    rskf = StratifiedKFold(n_splits=3, random_state=1)\n",
    "    rmse_scores = []\n",
    "    for train_index, test_index in rskf.split(X, y):\n",
    "        X_train, X_test = X[train_index], X[test_index]\n",
    "        y_train, y_test = y[train_index], y[test_index]\n",
    "        model.fit(X_train, y_train)\n",
    "        rmse_scores.append(np.sqrt(mean_squared_error(y_test, model.predict(X_test))))\n",
    "    return np.mean(rmse_scores)\n",
    "    \n",
    "space = {\n",
    "    'max_depth': hp.choice('max_depth', range(1,20)),\n",
    "    'max_features': hp.choice('max_features', ['auto', 'sqrt', 'log2']),\n",
    "    'criterion': hp.choice('criterion', [\"gini\", \"entropy\"]),\n",
    "    'min_samples_split': ho_scope.int(hp.quniform('min_samples_split', low=2, high=10, q=1)),\n",
    "    'min_samples_leaf':  ho_scope.int(hp.quniform('min_samples_leaf', low=1, high=10, q=1)),\n",
    "    'min_weight_fraction_leaf': hp.uniform('min_weight_fraction_leaf', 0, 0.5),\n",
    "}\n",
    "\n",
    "    \n",
    "best = fmin(\n",
    "    fn=f,  # \"Loss\" function to minimize\n",
    "    space=space,  # Hyperparameter space\n",
    "    algo=tpe.suggest,  # Tree-structured Parzen Estimator (TPE)\n",
    "    max_evals=iter_num  # Perform 100 trials\n",
    ")\n",
    "\n",
    "print(\"Found minimum after %d trials:\" %(iter_num))\n",
    "print(best)"
   ]
  },
  {
   "cell_type": "markdown",
   "metadata": {},
   "source": [
    "### Passive Aggressive"
   ]
  },
  {
   "cell_type": "code",
   "execution_count": 17,
   "metadata": {},
   "outputs": [],
   "source": [
    "objects_num = 50000\n",
    "\n",
    "X = X_train[:objects_num]\n",
    "y = y_train[:objects_num]"
   ]
  },
  {
   "cell_type": "code",
   "execution_count": 18,
   "metadata": {},
   "outputs": [
    {
     "name": "stdout",
     "output_type": "stream",
     "text": [
      "100%|██████████| 250/250 [06:08<00:00,  1.30s/it, best loss: 1.467211781761847] \n",
      "Found minimum after 250 trials:\n",
      "{'C': 0.017342341509607916, 'fit_intercept': 1}\n"
     ]
    }
   ],
   "source": [
    "def f(space):\n",
    "    model = PassiveAggressiveClassifier(C=space['C'], fit_intercept=space['fit_intercept'])\n",
    "    \n",
    "    rskf = StratifiedKFold(n_splits=3, random_state=1)\n",
    "    rmse_scores = []\n",
    "    for train_index, test_index in rskf.split(X, y):\n",
    "        X_train, X_test = X[train_index], X[test_index]\n",
    "        y_train, y_test = y[train_index], y[test_index]\n",
    "        model.fit(X_train, y_train)\n",
    "        rmse_scores.append(np.sqrt(mean_squared_error(y_test, model.predict(X_test))))\n",
    "    return np.mean(rmse_scores)\n",
    "    \n",
    "space = {\n",
    "    'C': hp.loguniform('C', low=np.log(0.01), high=np.log(1)),\n",
    "    'fit_intercept': hp.choice('fit_intercept', [True, False]),\n",
    "}\n",
    "\n",
    "    \n",
    "best = fmin(\n",
    "    fn=f,  # \"Loss\" function to minimize\n",
    "    space=space,  # Hyperparameter space\n",
    "    algo=tpe.suggest,  # Tree-structured Parzen Estimator (TPE)\n",
    "    max_evals=iter_num  # Perform 100 trials\n",
    ")\n",
    "\n",
    "print(\"Found minimum after %d trials:\" %(iter_num))\n",
    "print(best)"
   ]
  },
  {
   "cell_type": "markdown",
   "metadata": {},
   "source": [
    "### SVC"
   ]
  },
  {
   "cell_type": "code",
   "execution_count": 19,
   "metadata": {},
   "outputs": [],
   "source": [
    "objects_num = 5000\n",
    "\n",
    "X = X_train[:objects_num]\n",
    "y = y_train[:objects_num]"
   ]
  },
  {
   "cell_type": "code",
   "execution_count": null,
   "metadata": {},
   "outputs": [
    {
     "name": "stdout",
     "output_type": "stream",
     "text": [
      " 12%|█▏        | 31/250 [02:45<17:19,  4.75s/it, best loss: 1.4201169340760789]"
     ]
    }
   ],
   "source": [
    "def f(space):\n",
    "    model = SVC(C=space['C'], kernel=space['kernel'], degree=space['degree'], gamma=space['gamma'],\\\n",
    "               shrinking=space['shrinking'])\n",
    "    \n",
    "    rskf = StratifiedKFold(n_splits=3, random_state=1)\n",
    "    rmse_scores = []\n",
    "    for train_index, test_index in rskf.split(X, y):\n",
    "        X_train, X_test = X[train_index], X[test_index]\n",
    "        y_train, y_test = y[train_index], y[test_index]\n",
    "        model.fit(X_train, y_train)\n",
    "        rmse_scores.append(np.sqrt(mean_squared_error(y_test, model.predict(X_test))))\n",
    "    return np.mean(rmse_scores)\n",
    "    \n",
    "space = {\n",
    "    'C': hp.loguniform('C', low=np.log(0.01), high=np.log(1)),\n",
    "    'kernel': hp.choice('kernel', ['linear', 'poly', 'rbf', 'sigmoid']),\n",
    "    'degree':  ho_scope.int(hp.quniform('degree', low=2, high=5, q=1)),\n",
    "    'gamma':  hp.loguniform('gamma', low=np.log(0.001), high=np.log(100)),\n",
    "    'shrinking': hp.choice('shrinking', [True, False])\n",
    "}\n",
    "\n",
    "    \n",
    "best = fmin(\n",
    "    fn=f,  # \"Loss\" function to minimize\n",
    "    space=space,  # Hyperparameter space\n",
    "    algo=tpe.suggest,  # Tree-structured Parzen Estimator (TPE)\n",
    "    max_evals=iter_num  # Perform 100 trials\n",
    ")\n",
    "\n",
    "print(\"Found minimum after %d trials:\" %(iter_num))\n",
    "print(best)"
   ]
  }
 ],
 "metadata": {
  "kernelspec": {
   "display_name": "Python 3",
   "language": "python",
   "name": "python3"
  },
  "language_info": {
   "codemirror_mode": {
    "name": "ipython",
    "version": 3
   },
   "file_extension": ".py",
   "mimetype": "text/x-python",
   "name": "python",
   "nbconvert_exporter": "python",
   "pygments_lexer": "ipython3",
   "version": "3.7.3"
  }
 },
 "nbformat": 4,
 "nbformat_minor": 2
}
